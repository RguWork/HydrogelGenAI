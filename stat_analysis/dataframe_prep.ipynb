{
 "cells": [
  {
   "cell_type": "code",
   "execution_count": null,
   "metadata": {},
   "outputs": [],
   "source": [
    "import pandas as pd"
   ]
  },
  {
   "cell_type": "code",
   "execution_count": null,
   "metadata": {},
   "outputs": [],
   "source": [
    "data510 = pd.read_csv(\"/Users/rgu/Desktop/UROPs/UROP4/repo/dataframes/hydrogel_data_510.csv\")\n",
    "display(data510)"
   ]
  },
  {
   "cell_type": "code",
   "execution_count": null,
   "metadata": {},
   "outputs": [],
   "source": [
    "#import dataframe with average weights and water loss\n",
    "avg_data510 = pd.read_csv(\"/Users/rgu/Desktop/UROPs/UROP4/repo/dataframes/avg_data510.csv\")\n",
    "display(avg_data510)"
   ]
  },
  {
   "cell_type": "code",
   "execution_count": null,
   "metadata": {},
   "outputs": [],
   "source": [
    "features60 = pd.read_csv('/Users/rgu/Desktop/UROPs/UROP4/repo/dataframes/extracted_features_60_sec.csv')\n",
    "display(features60) #load the features dataframe"
   ]
  },
  {
   "cell_type": "code",
   "execution_count": null,
   "metadata": {},
   "outputs": [],
   "source": [
    "merged_df = pd.merge(data510, features60, on='song_name', how='left') #left ensures that the columns from A are kept\n",
    "merged_df.drop(['file_path'], axis=1, inplace=True) #remember drop creates a new frame by default, so we have to use inplace\n",
    "with pd.option_context('display.max_columns', None):\n",
    "    display(merged_df)\n"
   ]
  }
 ],
 "metadata": {
  "language_info": {
   "name": "python"
  }
 },
 "nbformat": 4,
 "nbformat_minor": 2
}
